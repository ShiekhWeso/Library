{
 "cells": [
  {
   "cell_type": "code",
   "execution_count": null,
   "metadata": {},
   "outputs": [
    {
     "name": "stdout",
     "output_type": "stream",
     "text": [
      "{1: {'bookname': 'Love and War', 'bookauthor': 'unknown', 'bookstatus': 'bor'}, 2: {'bookname': 'Death', 'bookauthor': 'killer', 'bookstatus': 'ava'}, 3: {'bookname': 'How to play', 'bookauthor': 'warrior', 'bookstatus': 'ava'}}\n"
     ]
    }
   ],
   "source": [
    "My_Library = {\n",
    "    1: {\"bookname\": \"Love and War\", \"bookauthor\": \"unknown\", \"bookstatus\": \"bor\"},\n",
    "    2: {\"bookname\": \"Death\", \"bookauthor\": \"killer\", \"bookstatus\": \"ava\"},\n",
    "    3: {\"bookname\": \"How to play\", \"bookauthor\": \"warrior\", \"bookstatus\": \"ava\"}\n",
    "}\n",
    "        \n",
    "def add_book(library):\n",
    "    while True:\n",
    "        book_num = int(input(\"plz enter the book's number: \"))\n",
    "        book_name = input(\"plz enter the book's name: \")\n",
    "        book_author = input(\"plz enter the book's author: \")\n",
    "        book_status = input(\"plz enter the book's status: (ava/bor)\")\n",
    "        choice = input(\"Do you want to add another book? if you want to exist press (n), if you don't press any botton to continue\")\n",
    "        \n",
    "        library[book_num] = {\"bookname\": book_name, \"bookauthor\": book_author, \"bookstatus\": book_status}\n",
    "        \n",
    "        if choice.lower() == \"n\":\n",
    "            break\n",
    "        \n",
    "def display_library(library):\n",
    "    for key1, value1 in library.items():\n",
    "        print(f\"Book number: {value1}\")\n",
    "        for key2, value2 in value1.items():\n",
    "            print(f\"{key2.capitalize()}: {value2}\")\n",
    "        print()\n",
    "\n",
    "def delete_book(library, n):\n",
    "    if n in library:\n",
    "        del library[n]\n",
    "    else:\n",
    "        print(\"The book doesn't exist.\")\n",
    "    \n",
    "def borrow_book(library, n):\n",
    "    if n in library:    \n",
    "        if list(library[n].values())[-1] == \"ava\":\n",
    "            library[n][\"bookstatus\"] = \"bor\"\n",
    "            print(\"You borrowed this book successfully\")\n",
    "        else:\n",
    "            print(\"You can't borrow this booked it's already borrowed.\")\n",
    "    else:\n",
    "        print(\"This book doesn't exist at the library.\")\n",
    "\n",
    "def resotre_book(library, n):\n",
    "    if n in library:    \n",
    "        if list(library[n].values())[-1] == \"bor\":\n",
    "            library[n][\"bookstatus\"] = \"ava\"\n",
    "            print(\"You returned this book successfully.\")\n",
    "        else:\n",
    "            print(\"this book is already here.\")\n",
    "    else:\n",
    "        print(\"This book doesn't exist at the library.\")\n",
    "\n",
    "def main():\n",
    "    while True:\n",
    "        choice = input(\"1: add \\n2: display\\n3: borrow\\n4: restore\\n5: delete\")\n",
    "        if choice == \"1\":\n",
    "            add_book(My_Library)\n",
    "        elif choice == \"2\":\n",
    "            display_library(My_Library)\n",
    "        elif choice == \"3\":\n",
    "            borrow_book(My_Library, int(input(\"Plz enter the number of book you want to borrow: \")))\n",
    "        elif choice == \"4\":\n",
    "            resotre_book(My_Library, int(input(\"Plz enter the number of book you want to restore: \")))\n",
    "        elif choice == \"5\":\n",
    "            delete_book(My_Library, int(input(\"Plz enter the number of book you want to delete: \")))\n",
    "        else:\n",
    "            print(\"Invalid choice!\")\n",
    "            break\n",
    "            \n",
    "main() "
   ]
  }
 ],
 "metadata": {
  "kernelspec": {
   "display_name": "Python 3",
   "language": "python",
   "name": "python3"
  },
  "language_info": {
   "codemirror_mode": {
    "name": "ipython",
    "version": 3
   },
   "file_extension": ".py",
   "mimetype": "text/x-python",
   "name": "python",
   "nbconvert_exporter": "python",
   "pygments_lexer": "ipython3",
   "version": "3.13.0"
  }
 },
 "nbformat": 4,
 "nbformat_minor": 2
}
