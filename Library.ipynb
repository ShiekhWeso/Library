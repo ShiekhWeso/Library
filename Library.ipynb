{
 "cells": [
  {
   "cell_type": "code",
   "execution_count": 21,
   "metadata": {},
   "outputs": [
    {
     "name": "stdout",
     "output_type": "stream",
     "text": [
      "{1: {'bookname': 'Love and War', 'bookauthor': 'unknown', 'bookstatus': 'bor'}, 2: {'bookname': 'Death', 'bookauthor': 'killer', 'bookstatus': 'ava'}, 3: {'bookname': 'How to play', 'bookauthor': 'warrior', 'bookstatus': 'ava'}}\n"
     ]
    }
   ],
   "source": [
    "My_Library = {\n",
    "    1: {\"bookname\": \"Love and War\", \"bookauthor\": \"unknown\", \"bookstatus\": \"bor\"},\n",
    "    2: {\"bookname\": \"Death\", \"bookauthor\": \"killer\", \"bookstatus\": \"ava\"},\n",
    "    3: {\"bookname\": \"How to play\", \"bookauthor\": \"warrior\", \"bookstatus\": \"ava\"}\n",
    "}\n",
    "\n",
    "def load_library():\n",
    "    pass\n",
    "\n",
    "def save_library(library):\n",
    "    with open(\"my_libray.txt\" , \"w\") as file:\n",
    "        x = []\n",
    "        for key1, value1 in library.items():\n",
    "            x.append(key1)\n",
    "            for key2, value2 in value1.items():\n",
    "                x.append(key2)\n",
    "                x.append(value2)\n",
    "        print(str(x).strip())\n",
    "        file.write(str(x).strip())\n",
    "        \n",
    "def add_book(library):\n",
    "    \n",
    "    while True:\n",
    "        book_num = int(input(\"plz enter the book's number: \"))\n",
    "        book_name = input(\"plz enter the book's name: \")\n",
    "        book_author = input(\"plz enter the book's author: \")\n",
    "        book_status = input(\"plz enter the book's status: (ava/bor)\")\n",
    "        choice = input(\"Do you want to add another book? if you want to exist press (n), if you don't press any botton to continue\")\n",
    "        \n",
    "        library[book_num] = {\"bookname\": book_name, \"bookauthor\": book_author, \"bookstatus\": book_status}\n",
    "        \n",
    "        if choice.lower() == \"n\":\n",
    "            break\n",
    "        \n",
    "    return library\n",
    "\n",
    "def display_library(library):\n",
    "    for i, j in library.items():\n",
    "        print(f\"Book number: {i}\")\n",
    "        for key, value in j.items():\n",
    "            print(f\"{key.capitalize()}: {value}\")\n",
    "        print()\n",
    "\n",
    "def delete_book(library, n):\n",
    "    del library[n]\n",
    "    \n",
    "\n",
    "# delete_book(My_Library, 2)\n",
    "# add_book(My_Library)\n",
    "# save_library(My_Library)\n",
    "print(My_Library)"
   ]
  }
 ],
 "metadata": {
  "kernelspec": {
   "display_name": "Python 3",
   "language": "python",
   "name": "python3"
  },
  "language_info": {
   "codemirror_mode": {
    "name": "ipython",
    "version": 3
   },
   "file_extension": ".py",
   "mimetype": "text/x-python",
   "name": "python",
   "nbconvert_exporter": "python",
   "pygments_lexer": "ipython3",
   "version": "3.13.0"
  }
 },
 "nbformat": 4,
 "nbformat_minor": 2
}
